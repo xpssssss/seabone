{
 "cells": [
  {
   "attachments": {},
   "cell_type": "markdown",
   "metadata": {},
   "source": [
    "# 爬虫\n",
    "\n"
   ]
  },
  {
   "cell_type": "code",
   "execution_count": 1,
   "metadata": {},
   "outputs": [],
   "source": [
    "import requests\n",
    "from lxml import etree\n",
    "import re,time\n",
    "import pandas as pd\n",
    "import csv\n",
    "import numpy as np\n",
    "\n",
    "url='http://tszb.sdcourt.gov.cn:81/findHomePageContents.action'\n",
    "header={'user-agent': 'Mozilla/5.0 (Windows NT 10.0; Win64; x64) AppleWebKit/537.36 (KHTML, like Gecko) Chrome/79.0.3945.88 Safari/537.36'}\n",
    "url_list=[]#所有网页\n",
    "\n",
    "#获取当前页面的所有网页\n",
    "#通过分析，下一页不是通过URL的变化，而是携带data访问数据，所以为访问第二页数据我们，我们要携带data\n",
    "def down_url():\n",
    "    try:\n",
    "        for n in range(1,100):\n",
    "            data={'start': '{}'.format(n),\n",
    "            'limit': '16',\n",
    "            'contentsearch.tcase.casetype': '1',\n",
    "            'contentsearch.tcase.casetype': '1',\n",
    "            'contentsearch.ttrial.begindatetime': '',\n",
    "            'contentsearch.ttrial.enddatetime': '',\n",
    "            'contentsearch.ttrial.clerk': '',\n",
    "            'contentsearch.tcase.party': '',\n",
    "            'contentsearch.tcase.casecode': ''}\n",
    "            res=requests.post(url,headers=header,data=data).text\n",
    "            href=re.findall('<a  target=\"_blank\" href=(.*)class=',res)\n",
    "            for i in range(len(href)):\n",
    "                new_url='http://tszb.sdcourt.gov.cn:81/'+href[i].replace('\"','')\n",
    "                data =[[new_url]]\n",
    "                with open('F:/Code/python/folder/url.csv', 'a',newline='') as f:\n",
    "                        w = csv.writer(f)\n",
    "                        w.writerows(data) \n",
    "                        #time.sleep(0.7)\n",
    "            print('成功获取第{}的页面所有网址'.format(n))\n",
    "        print('全部完成-------------------')\n",
    "    except:\n",
    "        print('{}下载失败'.format(n))\n",
    "\n",
    "#获取-时间，类型，地点\n",
    "def get_text():\n",
    "    for i in range(len(url_list)):\n",
    "        res=requests.get(url_list[i],headers=header).text\n",
    "        place=re.findall('<span class=\"boriui_wenzi\">法院：</span><span class=\"bord\" title=\"(.*?)\"',res)[0]\n",
    "        time=re.findall('<span class=\"boriui_wenzi\">开庭时间：</span><span class=\"bord\" title=\"(.*?)\"',res)[0]\n",
    "        thing_type=re.findall('\t\t\t\t\t\t\t\t\t\t\ttitle=\"(.*?)\">',res)[0]\n",
    "        data=[[place,time,thing_type]]\n",
    "        print('{}{}{}'.format(place,time,thing_type))\n",
    "        with open('D:/Code/python/folder/thing.csv', 'a',newline='') as f:\n",
    "            w = csv.writer(f)\n",
    "            w.writerows(data)\n",
    "        time.sleep(0.7)\n",
    "\n",
    "#处理网址，将网址添加到列表中\n",
    "def check():\n",
    "    url_csv=pd.read_csv('D:/Code/python/url.csv',usecols=[0],header=None)\n",
    "    url_csv=np.array(url_csv)\n",
    "    for i in range(1,3168,2):\n",
    "        url_list.append(url_csv[i][0])\n"
   ]
  },
  {
   "attachments": {},
   "cell_type": "markdown",
   "metadata": {},
   "source": [
    "# 图像分割————阈值化\n"
   ]
  },
  {
   "cell_type": "code",
   "execution_count": 3,
   "metadata": {},
   "outputs": [],
   "source": [
    "import cv2\n",
    "import  numpy as np\n",
    "img=cv2.imread('car.jpg')\n",
    "\n",
    "img=cv2.cvtColor(img,cv2.COLOR_BGR2GRAY)\n",
    "\n",
    "\n",
    "#普通二值阈值化\n",
    "t1,dst1=cv2.threshold(img,127,255,cv2.THRESH_BINARY)\n",
    "\n",
    "#采用otsu的处理\n",
    "t2,dst2=cv2.threshold(img,0,255,cv2.THRESH_BINARY+cv2.THRESH_OTSU)\n",
    "\n",
    "\n",
    "cv2.namedWindow('image',cv2.WINDOW_NORMAL)  #WINDOW_NORMAL使窗口大小可以调整\n",
    "cv2.namedWindow(\"THRESH_TOZERO\",cv2.WINDOW_NORMAL)\n",
    "cv2.namedWindow(\"THRESH_TOZERO_INV\",cv2.WINDOW_NORMAL)\n",
    "\n",
    "\n",
    "#显示图像\n",
    "cv2.imshow(\"image\",img)\n",
    "cv2.imshow(\"THRESH_BINARY\",dst1)\n",
    "cv2.imshow(\"THRESH_OTSU\",dst2)\n",
    "cv2.waitKey(0)\n",
    "cv2.destroyAllWindows()\n"
   ]
  },
  {
   "attachments": {},
   "cell_type": "markdown",
   "metadata": {},
   "source": [
    "# 基于纹理的分割\n"
   ]
  },
  {
   "cell_type": "code",
   "execution_count": 4,
   "metadata": {},
   "outputs": [
    {
     "ename": "SyntaxError",
     "evalue": "invalid syntax (Temp/ipykernel_156/2648141175.py, line 16)",
     "output_type": "error",
     "traceback": [
      "\u001b[1;36m  File \u001b[1;32m\"C:\\Users\\韩东平\\AppData\\Local\\Temp/ipykernel_156/2648141175.py\"\u001b[1;36m, line \u001b[1;32m16\u001b[0m\n\u001b[1;33m    bgdmodel=np.zeros((1,65),np.float64)#bg模型的临时数组\u001b[0m\n\u001b[1;37m    ^\u001b[0m\n\u001b[1;31mSyntaxError\u001b[0m\u001b[1;31m:\u001b[0m invalid syntax\n"
     ]
    }
   ],
   "source": [
    "import cv2\n",
    "import numpy as np  \n",
    "\n",
    "img=cv2.imread('wyb.jpg')\n",
    "r=cv2.selectROI(\"input\",img,False)\n",
    "print(\"input\",r)\n",
    "\n",
    "\n",
    "\n",
    "#roi区域\n",
    "roi=img[int(r[1]):int(r[1]+r[3]),int(r[0]):int(r[0]+r[2])]\n",
    "#原图mask\n",
    "mask=np.zeros(img.shape[:2],np.uint8)\n",
    "#矩形roi\n",
    "rect=(int(r[0]),int(r[1]),int(r[2]),int(r[3])#包括前景的矩形，格式为(x,y,w,h)\n",
    "bgdmodel=np.zeros((1,65),np.float64)#bg模型的临时数组\n",
    "fgdmodel=np.zeros((1,65),np.float64)#fg模型的临时数组\n",
    "\n",
    "CV2.grabCut(img,mask,rect,bgdmodel,fgdmodel,11,cv2.GC_INIT_WITH_RECT)\n",
    "\n",
    "\n",
    "#提取前景和可能的前景区域\n",
    "mask2=np.where((mask==2)|(mask==0),0,1).astype('uint8')\n",
    "print(mask2.shape)\n",
    "result=cv2.bitwise_and(roi,roi,mask=mask2)\n",
    "cv2.imshow(\"result\",result)\n",
    "cv2.waitKey(0)\n",
    "cv2.destroyAllWindows()\n",
    "\n",
    "\n",
    "\n",
    "\n",
    "# <!-- cv2.imwrite(\"wyb_mask.jpg\",mask) -->\n",
    "cv2.imwrite(\"wyb_result.jpg\",result)\n",
    "cv2.imwrite(\"roi.jpg\",roi)"
   ]
  },
  {
   "cell_type": "code",
   "execution_count": 2,
   "metadata": {},
   "outputs": [],
   "source": [
    "import cv2\n",
    "import numpy as np  \n",
    "\n",
    "img = cv2.imread('cut.jpg')\n",
    "r = cv2.selectROI(\"input\", img, False)\n",
    "print(\"input\", r)\n",
    "\n",
    "# roi区域\n",
    "roi = img[int(r[1]):int(r[1] + r[3]), int(r[0]):int(r[0] + r[2])]\n",
    "\n",
    "# 原图mask\n",
    "mask = np.zeros(img.shape[:2], np.uint8)\n",
    "\n",
    "# 矩形roi\n",
    "rect = (int(r[0]), int(r[1]), int(r[2]), int(r[3]))  # Fix: Add the closing parenthesis\n",
    "\n",
    "bgdmodel = np.zeros((1, 65), np.float64)  # bg模型的临时数组\n",
    "fgdmodel = np.zeros((1, 65), np.float64)  # fg模型的临时数组\n",
    "\n",
    "cv2.grabCut(img, mask, rect, bgdmodel, fgdmodel, 11, cv2.GC_INIT_WITH_RECT)\n",
    "\n",
    "# 提取前景和可能的前景区域\n",
    "mask2 = np.where((mask == 2) | (mask == 0), 0, 1).astype('uint8')\n",
    "print(mask2.shape)\n",
    "result = cv2.bitwise_and(roi, roi, mask=mask2)\n",
    "cv2.imshow(\"result\", result)\n",
    "cv2.waitKey(0)\n",
    "cv2.destroyAllWindows()\n",
    "\n",
    "# cv2.imwrite(\"wyb_mask.jpg\", mask)\n",
    "cv2.imwrite(\"wyb_result.jpg\", result)\n",
    "cv2.imwrite(\"roi.jpg\", roi)\n"
   ]
  },
  {
   "cell_type": "code",
   "execution_count": null,
   "metadata": {},
   "outputs": [],
   "source": []
  }
 ],
 "metadata": {
  "kernelspec": {
   "display_name": "base",
   "language": "python",
   "name": "python3"
  },
  "language_info": {
   "codemirror_mode": {
    "name": "ipython",
    "version": 3
   },
   "file_extension": ".py",
   "mimetype": "text/x-python",
   "name": "python",
   "nbconvert_exporter": "python",
   "pygments_lexer": "ipython3",
   "version": "3.9.7 (default, Sep 16 2021, 16:59:28) [MSC v.1916 64 bit (AMD64)]"
  },
  "orig_nbformat": 4,
  "vscode": {
   "interpreter": {
    "hash": "526b65c80cc34e104c4b2a463e7de7c9c7f7302ba49d869c08f4628a15b82f2d"
   }
  }
 },
 "nbformat": 4,
 "nbformat_minor": 2
}
