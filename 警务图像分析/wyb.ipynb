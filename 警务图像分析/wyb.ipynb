{
 "cells": [
  {
   "cell_type": "code",
   "execution_count": 1,
   "metadata": {},
   "outputs": [],
   "source": [
    "import cv2\n",
    "import numpy as np\n",
    "import matplotlib.pyplot as plt\n"
   ]
  },
  {
   "cell_type": "code",
   "execution_count": 2,
   "metadata": {},
   "outputs": [],
   "source": [
    "#图像的采样\n",
    "\n",
    "img=cv2.imread(\"wyb.jpg\")\n",
    "\n",
    "height=img.shape[0]\n",
    "width=img.shape[1]\n",
    "\n",
    "\n",
    "#采样转化成16*16\n",
    "numheignt=int(height/16)\n",
    "numwidth=int(width/16)\n",
    "\n",
    "\n",
    "#创建一幅图像\n",
    "\n",
    "new_img=np.zeros((height,width,3),np.uint8)\n",
    "for i in range(16):\n",
    "    y=i*numheignt\n",
    "    for j in range(16):\n",
    "        x=j*numwidth\n",
    "#获取像素点\n",
    "        b=img[y,x][0]\n",
    "        g=img[y,x][1]\n",
    "        r=img[y,x][2]\n",
    "\n",
    "for n in range(numheignt):\n",
    "    for m in range(numwidth):\n",
    "        new_img[y+n,x+m][0]=np.uint8(b)\n",
    "        new_img[y+n,x+m][1]=np.uint8(g)\n",
    "        new_img[y+n,x+m][2]=np.uint8(r)\n",
    "        \n",
    "\n",
    "cv2.imshow(\"src\",img)\n",
    "cv2.imshow(\"SAMPLING\",new_img)\n",
    "cv2.waitKey(0)\n",
    "cv2.destroyAllWindows()\n"
   ]
  },
  {
   "cell_type": "markdown",
   "metadata": {},
   "source": []
  },
  {
   "cell_type": "code",
   "execution_count": 2,
   "metadata": {},
   "outputs": [],
   "source": [
    "#局部大码，通过拖动鼠标的方式让使用者灵活自主地给图像打马赛\n",
    "\n",
    "from cv2 import cv2\n",
    "import numpy as np\n",
    "\n",
    "img=cv2.imread(r'wyb.jpg')\n",
    "\n",
    "enable=False\n",
    "value = 10\n",
    "def call_back_size(param):\n",
    "    global value\n",
    "    value = cv2.getTrackbarPos('size','image') #从滑块处获取值\n",
    "\n",
    "\n",
    "def call_back_draw(event,x,y,flags,param):\n",
    "    global enable\n",
    "    global value\n",
    "    if event==cv2.EVENT_LBUTTONDOWN:\n",
    "        enable=True\n",
    "    elif event==cv2.EVENT_MOUSEMOVE and flags==cv2.EVENT_FLAG_LBUTTON:\n",
    "        if enable:\n",
    "            drawMask(y,x,value)\n",
    "        elif event==cv2.EVENT_LBUTTONUP:\n",
    "            enable=False\n",
    "# 图像局部采样函数\n",
    "def drawMask(x,y,size):\n",
    "    m=np.uint8(x/size)*size\n",
    "    n=np.uint8(y/size)*size\n",
    "\n",
    "    # size大小范围内的图像像素值设置为同一个像素值\n",
    "    for i in range(size):\n",
    "        for j in range(size):\n",
    "            img[m+i][n+j]=img[m][n]\n",
    "\n",
    "cv2.namedWindow('image')\n",
    "cv2.createTrackbar(\"size\",\"image\",value,100,call_back_size) #创建移动滑块，最大值为100\n",
    "cv2.setMouseCallback('image',call_back_draw)\n",
    "\n",
    "while True:\n",
    "    cv2.imshow('image',img)\n",
    "    if cv2.waitKey(1)==ord('q'):\n",
    "        break\n",
    "\n",
    "cv2.destroyAllWindows()\n"
   ]
  },
  {
   "attachments": {},
   "cell_type": "markdown",
   "metadata": {},
   "source": [
    "#kemans"
   ]
  },
  {
   "cell_type": "code",
   "execution_count": null,
   "metadata": {},
   "outputs": [],
   "source": [
    "retval,bestLabels,centers,kmeans=(data,K,bestLabels,criteria,attempts,flags,centers=None)"
   ]
  },
  {
   "cell_type": "code",
   "execution_count": 3,
   "metadata": {},
   "outputs": [],
   "source": [
    "import cv2\n",
    "import numpy as np\n",
    "import matplotlib.pyplot as plt\n",
    " \n",
    "#读取原始图像\n",
    "img = cv2.imread('wyb.jpg')\n",
    " \n",
    "#获取图像高度和宽度\n",
    "height = img.shape[0]\n",
    "width = img.shape[1]\n",
    " \n",
    "#创建一幅图像\n",
    "grayimg = np.zeros((height, width, 3), np.uint8)\n",
    "# print (grayimg)\n",
    " \n",
    "#图像平均灰度处理方法\n",
    "for i in range(height):\n",
    "    for j in range(width):\n",
    "        #灰度值为RGB三个分量的平均值\n",
    "        gray = (int(img[i,j][0]) + int(img[i,j][1]) + int(img[i,j][2]))  /  3\n",
    "        grayimg[i,j] = np.uint8(gray)#显示图像\n",
    "cv2.imshow(\"src\", img)\n",
    "cv2.imshow(\"gray\", grayimg)\n",
    " \n",
    "#等待显示\n",
    "cv2.waitKey(0)\n",
    "cv2.destroyAllWindows()\n",
    "    "
   ]
  },
  {
   "cell_type": "code",
   "execution_count": null,
   "metadata": {},
   "outputs": [],
   "source": []
  }
 ],
 "metadata": {
  "kernelspec": {
   "display_name": "base",
   "language": "python",
   "name": "python3"
  },
  "language_info": {
   "codemirror_mode": {
    "name": "ipython",
    "version": 3
   },
   "file_extension": ".py",
   "mimetype": "text/x-python",
   "name": "python",
   "nbconvert_exporter": "python",
   "pygments_lexer": "ipython3",
   "version": "3.9.7 (default, Sep 16 2021, 16:59:28) [MSC v.1916 64 bit (AMD64)]"
  },
  "orig_nbformat": 4,
  "vscode": {
   "interpreter": {
    "hash": "526b65c80cc34e104c4b2a463e7de7c9c7f7302ba49d869c08f4628a15b82f2d"
   }
  }
 },
 "nbformat": 4,
 "nbformat_minor": 2
}
