{
 "cells": [
  {
   "cell_type": "code",
   "execution_count": 6,
   "metadata": {},
   "outputs": [
    {
     "name": "stderr",
     "output_type": "stream",
     "text": [
      "C:\\Users\\韩东平\\AppData\\Local\\Temp/ipykernel_27956/1023518042.py:30: RuntimeWarning: overflow encountered in ubyte_scalars\n",
      "  gray = (img[i, j][0] + img[i, j][1] + img[i, j][2]) // 3\n"
     ]
    },
    {
     "data": {
      "text/plain": [
       "True"
      ]
     },
     "execution_count": 6,
     "metadata": {},
     "output_type": "execute_result"
    }
   ],
   "source": [
    "import  cv2\n",
    "\n",
    "import  numpy  as  np\n",
    "\n",
    "  \n",
    "#读取原始图像\n",
    "img  =  cv2.imread('wyb.jpg')\n",
    "  \n",
    "#获取图像高度和宽度\n",
    "height  =  img.shape[0]\n",
    "width  =  img.shape[1]\n",
    "\n",
    "#图像最大值灰度处理\n",
    "# 图像最大值灰度处理\n",
    "max_gray_img = np.zeros((height, width), np.uint8)\n",
    "\n",
    "# 灰度最大处理\n",
    "for i in range(height):\n",
    "    for j in range(width):\n",
    "        gray = max(img[i, j][0], img[i, j][1], img[i, j][2])\n",
    "        max_gray_img[i, j] = np.uint8(gray)\n",
    "\n",
    "\n",
    "\n",
    "#图像平均灰度处理方法\n",
    "# 图像平均灰度处理方法\n",
    "avg_gray_img = np.zeros((height, width), np.uint8)\n",
    "for i in range(height):\n",
    "    for j in range(width):\n",
    "        gray = (img[i, j][0] + img[i, j][1] + img[i, j][2]) // 3\n",
    "        avg_gray_img[i, j] = np.uint8(gray)\n",
    "\n",
    "\n",
    "#图像加权灰度化处理方法:a权重设置如下：\n",
    "#  0.30*img[i,j][0]  +  0.59*img[i,j][1]  +  0.11*img[i,j][2]\n",
    "garyimg3=np.zeros((height,width,3),np.uint8)\n",
    "for i in range(height):\n",
    "    for j in range(width):\n",
    "        gary=0.30*img[i,j][0]  +  0.59*img[i,j][1]  +  0.11*img[i,j][2]\n",
    "        garyimg3[i,j]=np.uint8(gary)\n",
    "\n",
    "#图像融合和保存：\n",
    "#将三种结果的灰度值分别乘以0.25、0.25、0.5后进行融合。\n",
    "#结果保存为result.jpg\n",
    "result = 0.25 * np.stack([max_gray_img] * 3, axis=-1) + 0.25 * np.stack([avg_gray_img] * 3, axis=-1) + 0.5 * garyimg3\n",
    "\n",
    "result = result.astype(np.uint8)\n",
    "cv2.imwrite('result.jpg', result)\n",
    "\n"
   ]
  },
  {
   "attachments": {},
   "cell_type": "markdown",
   "metadata": {},
   "source": [
    "# 等效替代\n"
   ]
  },
  {
   "cell_type": "code",
   "execution_count": 5,
   "metadata": {},
   "outputs": [
    {
     "data": {
      "text/plain": [
       "True"
      ]
     },
     "execution_count": 5,
     "metadata": {},
     "output_type": "execute_result"
    }
   ],
   "source": [
    "\n",
    "import cv2\n",
    "import numpy as np\n",
    "\n",
    "# 读取原始图像\n",
    "img = cv2.imread('wyb.jpg')\n",
    "\n",
    "# 获取图像高度和宽度\n",
    "height, width, _ = img.shape\n",
    "\n",
    "# 图像最大值灰度处理\n",
    "max_gray_img = np.max(img, axis=2)\n",
    "\n",
    "# 图像平均灰度处理方法\n",
    "avg_gray_img = np.mean(img, axis=2, dtype=np.uint8)\n",
    "\n",
    "# 图像加权灰度化处理方法: a权重设置如下：\n",
    "# 0.30*img[i,j][0] + 0.59*img[i,j][1] + 0.11*img[i,j][2]\n",
    "garyimg3 = 0.30 * img[:, :, 0] + 0.59 * img[:, :, 1] + 0.11 * img[:, :, 2]\n",
    "garyimg3 = garyimg3.astype(np.uint8)\n",
    "\n",
    "# 图像融合和保存：\n",
    "# 将三种结果的灰度值分别乘以0.25、0.25、0.5后进行融合。\n",
    "# 结果保存为result.jpg\n",
    "result = 0.25 * max_gray_img + 0.25 * avg_gray_img + 0.5 * garyimg3\n",
    "result = result.astype(np.uint8)\n",
    "\n",
    "cv2.imwrite('result.jpg', result)\n"
   ]
  },
  {
   "cell_type": "code",
   "execution_count": 6,
   "metadata": {},
   "outputs": [],
   "source": [
    "import cv2\n",
    "import numpy as np\n",
    "import matplotlib.pyplot as plt\n",
    "img=cv2.imread(\"wyb.jpg\")\n",
    "height=img.shape[0]\n",
    "width=img.shape[1]\n",
    "garyimg=np.zeros((height,width,3),np.uint8)\n",
    "\n",
    "#灰度最大处理\n",
    "for i in range(height):\n",
    "    for j in range(width):\n",
    "        gray=max(img[i,j][0],img[i,j][1],img[i,j][2])\n",
    "\n",
    "garyimg[i,j]=np.uint8(gray)\n",
    "\n",
    "cv2.imshow(\"gray\",garyimg)\n",
    "cv2.waitKey(0)\n",
    "cv2.destroyAllWindows()\n"
   ]
  },
  {
   "cell_type": "code",
   "execution_count": null,
   "metadata": {},
   "outputs": [],
   "source": []
  },
  {
   "attachments": {},
   "cell_type": "markdown",
   "metadata": {},
   "source": [
    "# 平均值灰度"
   ]
  },
  {
   "cell_type": "code",
   "execution_count": 4,
   "metadata": {},
   "outputs": [
    {
     "name": "stderr",
     "output_type": "stream",
     "text": [
      "C:\\Users\\韩东平\\AppData\\Local\\Temp/ipykernel_13972/2976982932.py:7: RuntimeWarning: overflow encountered in ubyte_scalars\n",
      "  gary=(img[i,j][0]+img[i,j][1]+img[i,j][2])/3\n"
     ]
    }
   ],
   "source": [
    "img=cv2.imread(\"wyb.jpg\")\n",
    "height=img.shape[0]\n",
    "width=img.shape[1]\n",
    "garyimg2=np.zeros((height,width,3),np.uint8)\n",
    "for i in range(height):\n",
    "    for j in range(width):\n",
    "        gary=(img[i,j][0]+img[i,j][1]+img[i,j][2])/3\n",
    "        garyimg2[i,j]=np.uint8(gary)\n",
    "cv2.imshow(\"gray\",garyimg2)\n",
    "\n",
    "cv2.waitKey(0)\n",
    "cv2.destroyAllWindows()"
   ]
  },
  {
   "cell_type": "code",
   "execution_count": 7,
   "metadata": {},
   "outputs": [],
   "source": [
    "#加权算法\n",
    "garyimg3=np.zeros((height,width,3),np.uint8)\n",
    "\n",
    "for i in range(height):\n",
    "    for j in range(width):\n",
    "        gary=0.30*img[i,j][0]  +  0.59*img[i,j][1]  +  0.11*img[i,j][2]\n",
    "        garyimg3[i,j]=np.uint8(gary)\n",
    "\n",
    "cv2.imshow(\"gray\",garyimg3)\n",
    "cv2.waitKey(0)\n",
    "cv2.destroyAllWindows()"
   ]
  },
  {
   "cell_type": "code",
   "execution_count": 8,
   "metadata": {},
   "outputs": [],
   "source": [
    "# soble 算子实现"
   ]
  },
  {
   "cell_type": "code",
   "execution_count": 9,
   "metadata": {},
   "outputs": [
    {
     "ename": "UnboundLocalError",
     "evalue": "local variable 'gradient' referenced before assignment",
     "output_type": "error",
     "traceback": [
      "\u001b[1;31m---------------------------------------------------------------------------\u001b[0m",
      "\u001b[1;31mUnboundLocalError\u001b[0m                         Traceback (most recent call last)",
      "\u001b[1;32m~\\AppData\\Local\\Temp/ipykernel_13972/1267071240.py\u001b[0m in \u001b[0;36m<module>\u001b[1;34m\u001b[0m\n\u001b[0;32m     53\u001b[0m \u001b[1;33m\u001b[0m\u001b[0m\n\u001b[0;32m     54\u001b[0m \u001b[0mimg\u001b[0m \u001b[1;33m=\u001b[0m \u001b[0mImage\u001b[0m\u001b[1;33m.\u001b[0m\u001b[0mopen\u001b[0m\u001b[1;33m(\u001b[0m\u001b[1;34m\"456.jpg\"\u001b[0m\u001b[1;33m)\u001b[0m\u001b[1;33m\u001b[0m\u001b[1;33m\u001b[0m\u001b[0m\n\u001b[1;32m---> 55\u001b[1;33m \u001b[0mnewimg\u001b[0m \u001b[1;33m=\u001b[0m \u001b[0mfilter\u001b[0m\u001b[1;33m(\u001b[0m\u001b[0mimg\u001b[0m\u001b[1;33m,\u001b[0m \u001b[1;36m0.5\u001b[0m\u001b[1;33m)\u001b[0m\u001b[1;33m\u001b[0m\u001b[1;33m\u001b[0m\u001b[0m\n\u001b[0m\u001b[0;32m     56\u001b[0m \u001b[0mnewimg\u001b[0m\u001b[1;33m.\u001b[0m\u001b[0msave\u001b[0m\u001b[1;33m(\u001b[0m\u001b[1;34m\"1b.jpg\"\u001b[0m\u001b[1;33m)\u001b[0m\u001b[1;33m\u001b[0m\u001b[1;33m\u001b[0m\u001b[0m\n",
      "\u001b[1;32m~\\AppData\\Local\\Temp/ipykernel_13972/1267071240.py\u001b[0m in \u001b[0;36mfilter\u001b[1;34m(img, k)\u001b[0m\n\u001b[0;32m     16\u001b[0m         \u001b[1;32mfor\u001b[0m \u001b[0mx\u001b[0m \u001b[1;32min\u001b[0m \u001b[0mrange\u001b[0m\u001b[1;33m(\u001b[0m\u001b[1;36m1\u001b[0m\u001b[1;33m,\u001b[0m \u001b[0mwidth\u001b[0m \u001b[1;33m-\u001b[0m \u001b[1;36m1\u001b[0m\u001b[1;33m)\u001b[0m\u001b[1;33m:\u001b[0m\u001b[1;33m\u001b[0m\u001b[1;33m\u001b[0m\u001b[0m\n\u001b[0;32m     17\u001b[0m             \u001b[0msz\u001b[0m \u001b[1;33m=\u001b[0m \u001b[0mgetSz\u001b[0m\u001b[1;33m(\u001b[0m\u001b[0mimg\u001b[0m\u001b[1;33m,\u001b[0m \u001b[0my\u001b[0m\u001b[1;33m,\u001b[0m \u001b[0mx\u001b[0m\u001b[1;33m,\u001b[0m \u001b[1;36m0\u001b[0m\u001b[1;33m)\u001b[0m\u001b[1;33m\u001b[0m\u001b[1;33m\u001b[0m\u001b[0m\n\u001b[1;32m---> 18\u001b[1;33m             \u001b[0mnew_img_array\u001b[0m\u001b[1;33m[\u001b[0m\u001b[0my\u001b[0m\u001b[1;33m,\u001b[0m \u001b[0mx\u001b[0m\u001b[1;33m]\u001b[0m \u001b[1;33m=\u001b[0m \u001b[0mgetSobel\u001b[0m\u001b[1;33m(\u001b[0m\u001b[0msz\u001b[0m\u001b[1;33m,\u001b[0m \u001b[0mk\u001b[0m\u001b[1;33m)\u001b[0m\u001b[1;33m\u001b[0m\u001b[1;33m\u001b[0m\u001b[0m\n\u001b[0m\u001b[0;32m     19\u001b[0m     \u001b[1;32mreturn\u001b[0m \u001b[0mImage\u001b[0m\u001b[1;33m.\u001b[0m\u001b[0mfromarray\u001b[0m\u001b[1;33m(\u001b[0m\u001b[0mnew_img_array\u001b[0m\u001b[1;33m)\u001b[0m\u001b[1;33m\u001b[0m\u001b[1;33m\u001b[0m\u001b[0m\n\u001b[0;32m     20\u001b[0m \u001b[1;33m\u001b[0m\u001b[0m\n",
      "\u001b[1;32m~\\AppData\\Local\\Temp/ipykernel_13972/1267071240.py\u001b[0m in \u001b[0;36mgetSobel\u001b[1;34m(sz, k)\u001b[0m\n\u001b[0;32m     32\u001b[0m         \u001b[0mgradient\u001b[0m \u001b[1;33m=\u001b[0m \u001b[0mnp\u001b[0m\u001b[1;33m.\u001b[0m\u001b[0mzeros\u001b[0m\u001b[1;33m(\u001b[0m\u001b[0mlen\u001b[0m\u001b[1;33m(\u001b[0m\u001b[0msz\u001b[0m\u001b[1;33m)\u001b[0m\u001b[1;33m,\u001b[0m \u001b[0mdtype\u001b[0m\u001b[1;33m=\u001b[0m\u001b[0mnp\u001b[0m\u001b[1;33m.\u001b[0m\u001b[0mint\u001b[0m\u001b[1;33m)\u001b[0m\u001b[1;33m\u001b[0m\u001b[1;33m\u001b[0m\u001b[0m\n\u001b[0;32m     33\u001b[0m \u001b[1;33m\u001b[0m\u001b[0m\n\u001b[1;32m---> 34\u001b[1;33m     \u001b[1;32mreturn\u001b[0m \u001b[0mnormalize\u001b[0m\u001b[1;33m(\u001b[0m\u001b[0mint\u001b[0m\u001b[1;33m(\u001b[0m\u001b[1;36m0.5\u001b[0m \u001b[1;33m*\u001b[0m \u001b[0msum\u001b[0m\u001b[1;33m(\u001b[0m\u001b[0mgradient\u001b[0m\u001b[1;33m)\u001b[0m\u001b[1;33m)\u001b[0m\u001b[1;33m)\u001b[0m\u001b[1;33m\u001b[0m\u001b[1;33m\u001b[0m\u001b[0m\n\u001b[0m\u001b[0;32m     35\u001b[0m \u001b[1;33m\u001b[0m\u001b[0m\n\u001b[0;32m     36\u001b[0m \u001b[1;32mdef\u001b[0m \u001b[0mgetSz\u001b[0m\u001b[1;33m(\u001b[0m\u001b[0mimg\u001b[0m\u001b[1;33m,\u001b[0m \u001b[0my\u001b[0m\u001b[1;33m,\u001b[0m \u001b[0mx\u001b[0m\u001b[1;33m,\u001b[0m \u001b[0mk\u001b[0m\u001b[1;33m)\u001b[0m\u001b[1;33m:\u001b[0m\u001b[1;33m\u001b[0m\u001b[1;33m\u001b[0m\u001b[0m\n",
      "\u001b[1;31mUnboundLocalError\u001b[0m: local variable 'gradient' referenced before assignment"
     ]
    }
   ],
   "source": [
    "from PIL import Image\n",
    "import numpy as np\n",
    "\n",
    "def normalize(pix):\n",
    "    if pix > 255:\n",
    "        return 255\n",
    "    elif pix < 0:\n",
    "        return 0\n",
    "    else:\n",
    "        return pix\n",
    "\n",
    "def filter(img, k):\n",
    "    width, height = img.size\n",
    "    new_img_array = np.zeros((height, width, 3), dtype=np.uint8)\n",
    "    for y in range(1, height - 1):\n",
    "        for x in range(1, width - 1):\n",
    "            sz = getSz(img, y, x, 0)\n",
    "            new_img_array[y, x] = getSobel(sz, k)\n",
    "    return Image.fromarray(new_img_array)\n",
    "\n",
    "def getSobel(sz, k):\n",
    "    gx = np.array([[-1, 0, 1], [-2, 0, 2], [-1, 0, 1]])\n",
    "    gy = np.array([[-1, -2, -1], [0, 0, 0], [1, 2, 1]])\n",
    "\n",
    "    if k == 0:  # Sobel filter for grayscale\n",
    "        gradient = np.sqrt(np.square(np.convolve(sz, gx.flatten(), 'valid')) + np.square(np.convolve(sz, gy.flatten(), 'valid')))\n",
    "    elif k == 1:  # Sobel filter for red channel\n",
    "        gradient = np.convolve(sz, gx.flatten(), 'valid')\n",
    "    elif k == 2:  # Sobel filter for green channel\n",
    "        gradient = np.convolve(sz, gy.flatten(), 'valid')\n",
    "    elif k == 3:  # Sobel filter for blue channel\n",
    "        gradient = np.zeros(len(sz), dtype=np.int)\n",
    "\n",
    "    return normalize(int(0.5 * sum(gradient)))\n",
    "\n",
    "def getSz(img, y, x, k):\n",
    "    img_array = np.array(img)\n",
    "    width, height = img.size\n",
    "    sz = []\n",
    "    if 0 < x < (width - 1) and 0 < y < (height - 1):\n",
    "        for j in range(y - 1, y + 2):\n",
    "            for i in range(x - 1, x + 2):\n",
    "                pix = img_array[j, i]\n",
    "                if k == 0:\n",
    "                    sz.append(int(0.3 * int(pix[2]) + 0.59 * int(pix[1]) + 0.11 * int(pix[0]) + 0.5))\n",
    "                if k == 1:\n",
    "                    sz.append(pix[2])\n",
    "                if k == 2:\n",
    "                    sz.append(pix[1])\n",
    "                if k == 3:\n",
    "                    sz.append(pix[0])\n",
    "    return sz\n",
    "\n",
    "img = Image.open(\"456.jpg\")\n",
    "newimg = filter(img, 0.5)\n",
    "newimg.save(\"1b.jpg\")\n"
   ]
  },
  {
   "cell_type": "code",
   "execution_count": null,
   "metadata": {},
   "outputs": [],
   "source": [
    "    from  PIL  import  Image\n",
    "    import  numpy  as  np\n",
    "\n",
    "\n",
    "    def  normalize(pix):\n",
    "            if  pix  >  255:\n",
    "                    return  255\n",
    "            elif  pix  <  0:\n",
    "                    return  0\n",
    "            else:\n",
    "                    return  pix\n",
    "\n",
    "    def  filter(img,  k):\n",
    "            width,  height=  img.size\n",
    "            new_img_array  =  np.zeros((height,  width,  3),  dtype=np.uint8)\n",
    "            for  y  in  range(1,  height  -  1):\n",
    "                    for  x  in  range(1,  width  -  1):\n",
    "                            bsz  =  getSz(img,  y,  x,  3)\n",
    "                            gsz  =  getSz(img,  y,  x,  2)\n",
    "                            rsz  =  getSz(img,  y,  x,  1)\n",
    "                            new_img_array[y,  x]  =  [getRobert(bsz,  k),  getRobert(gsz,  k),  getRobert(rsz,  k)]\n",
    "            return  Image.fromarray(new_img_array)\n",
    "\n",
    "\n",
    "    def  getRobert(sz,  k):\n",
    "            \n",
    "\n",
    "\n",
    "\n",
    "    def  getSz(img,  y,  x,  k):\n",
    "            img_array  =  np.array(img)\n",
    "            width,  height=  img.size\n",
    "            sz  =  []\n",
    "            if  0  <  x  <  (width  -  1)  and  0  <  y  <  (height  -  1):\n",
    "                    for  j  in  range(y  -  1,  y  +  2):\n",
    "                            for  i  in  range(x  -  1,  x  +  2):\n",
    "                                    pix  =  img_array[j,  i]\n",
    "                                    if  k  ==  0:\n",
    "                                            sz.append(int(0.3  *  pix[2]  +  0.59  *  pix[1]  +  0.11  *  pix[0]))\n",
    "                                    if  k  ==  1:\n",
    "                                            sz.append(pix[2])\n",
    "                                    if  k  ==  2:\n",
    "                                            sz.append(pix[1])\n",
    "                                    if  k  ==  3:\n",
    "                                            sz.append(pix[0])\n",
    "        return  sz\n",
    "\n",
    "\n",
    "    img  =  Image.open(\"1.jpg\")\n",
    "    newimg  =  filter(img,  1.0)\n",
    "    newimg.save(\"1b.jpg\")"
   ]
  },
  {
   "cell_type": "code",
   "execution_count": null,
   "metadata": {},
   "outputs": [],
   "source": [
    "def getSobel(sz, k):\n",
    "    # Convert the image to grayscale\n",
    "    gray_image = cv2.cvtColor(sz, cv2.COLOR_BGR2GRAY)\n",
    "\n",
    "    # Apply the Sobel filter\n",
    "    sobel_x = cv2.Sobel(gray_image, cv2.CV_64F, 1, 0, ksize=k)\n",
    "    sobel_y = cv2.Sobel(gray_image, cv2.CV_64F, 0, 1, ksize=k)\n",
    "\n",
    "    # Compute the gradient magnitude\n",
    "    gradient_magnitude = np.sqrt(sobel_x**2 + sobel_y**2)\n",
    "\n",
    "    # Map the gradient magnitude to the 0-255 range\n",
    "    gradient_magnitude = np.uint8(255 * gradient_magnitude / np.max(gradient_magnitude))\n",
    "\n",
    "    return gradient_magnitude\n",
    "\n"
   ]
  },
  {
   "cell_type": "code",
   "execution_count": null,
   "metadata": {},
   "outputs": [],
   "source": [
    "import  cv2\n",
    "import  numpy  as  np\n",
    "\n",
    "#（1）傅里叶正向变换\n",
    "img  =  cv2.imread('pic.jpg',0)  #  导入图像，变成灰度图\n",
    "#  转变成np.float32类型\n",
    "img_float  =  np.float32(img)\n",
    "#  傅里叶变换\n",
    "dft  =  cv2.dft(img_float,flags=cv2.DFT_COMPLEX_OUTPUT)\n",
    "#  将低频值转换到中间\n",
    "dft_shift  =  np.fft.fftshift(dft)\n",
    "\n",
    "\n",
    "\n",
    "\n",
    "#（2）构造滤波器\n",
    "#  获取频率为0部分中心点位置\n",
    "rows,cols  =  img.shape    #  (471,498),分别保存图像的高和宽\n",
    "crow,col  =  int(rows/2),  int(cols/2)    #  计算中心点坐标\n",
    "#  构造低通滤波器，相当于构造一个掩模\n",
    "#  构造的size和原图相同，2通道，傅里叶变换后有实部和虚部\n",
    "#  构造一个以频率为0点中心对称，长30+30，宽30+30的一个区域，只保留区域内部的频率\n",
    "mask=  np.zeros((rows,cols,2),np.uint8)\n",
    "mask[crow-30:crow+30,  crow-30:crow+30]  =  1\n",
    "#（3）滤波\n",
    "#  频谱图上，低频的信息都在中间，滤波器和频谱图相乘，遮挡四周，保留中间，中间是低频\n",
    "\n",
    "\n",
    "#  在获得频谱图时，将低频点从边缘点移动到图像中间，现在要逆变换，得还回去\n",
    "f_ishift  =  np.fft.ifftshift(fshift)\n",
    "#（4）傅里叶逆变换idft\n",
    "f_ishift=  np.fft.ifftshift(fshift)\n",
    "img_back  =  cv2.idft(f_ishift)\n",
    "res=cv2.magnitude(img_back[:,:,0],img_back[:,:,1])\n",
    "\n",
    "#  还原后的还是有实部和虚部，需要进一步处理\n",
    "img_back  =  cv2.magnitude(img_back[:,:,0],img_back[:,:,1])\n",
    "\n",
    "cv2.imwrite('ditong.jpg',img_back)\n"
   ]
  },
  {
   "cell_type": "code",
   "execution_count": 12,
   "metadata": {},
   "outputs": [
    {
     "data": {
      "text/plain": [
       "True"
      ]
     },
     "execution_count": 12,
     "metadata": {},
     "output_type": "execute_result"
    }
   ],
   "source": [
    "import cv2\n",
    "import numpy as np\n",
    "\n",
    "#（1）傅里叶正向变换\n",
    "img = cv2.imread('pic.jpg', 0)  # 导入图像，变成灰度图\n",
    "# 转变成np.float32类型\n",
    "img_float = np.float32(img)\n",
    "# 傅里叶变换\n",
    "dft = cv2.dft(img_float, flags=cv2.DFT_COMPLEX_OUTPUT)\n",
    "# 将低频值转换到中间\n",
    "dft_shift = np.fft.fftshift(dft)\n",
    "\n",
    "#（2）构造滤波器\n",
    "# 获取频率为0部分中心点位置\n",
    "rows, cols = img.shape  # (471,498),分别保存图像的高和宽\n",
    "crow, col = int(rows/2), int(cols/2)  # 计算中心点坐标\n",
    "# 构造低通滤波器，相当于构造一个掩模\n",
    "# 构造的size和原图相同，2通道，傅里叶变换后有实部和虚部\n",
    "# 构造一个以频率为0点中心对称，长30+30，宽30+30的一个区域，只保留区域内部的频率\n",
    "mask = np.zeros((rows, cols, 2), np.uint8)\n",
    "mask[crow-30:crow+30, col-30:col+30] = 1  # Fixed syntax error\n",
    "\n",
    "#（3）滤波\n",
    "# 频谱图上，低频的信息都在中间，滤波器和频谱图相乘，遮挡四周，保留中间，中间是低频\n",
    "fshift = dft_shift * mask\n",
    "\n",
    "# 在获得频谱图时，将低频点从边缘点移动到图像中间，现在要逆变换，得还回去\n",
    "f_ishift = np.fft.ifftshift(fshift)\n",
    "\n",
    "#（4）傅里叶逆变换idft\n",
    "img_back = cv2.idft(f_ishift)\n",
    "img_back = cv2.magnitude(img_back[:, :, 0], img_back[:, :, 1])\n",
    "\n",
    "# 还原后的还是有实部和虚部，需要进一步处理\n",
    "img_back = np.uint8(img_back)  # Convert to uint8 for saving as an image\n",
    "\n",
    "cv2.imwrite('ditong.jpg', img_back)\n"
   ]
  },
  {
   "attachments": {},
   "cell_type": "markdown",
   "metadata": {},
   "source": [
    "# 傅里叶变换"
   ]
  },
  {
   "cell_type": "code",
   "execution_count": 10,
   "metadata": {},
   "outputs": [
    {
     "data": {
      "text/plain": [
       "True"
      ]
     },
     "execution_count": 10,
     "metadata": {},
     "output_type": "execute_result"
    }
   ],
   "source": [
    "import cv2\n",
    "import numpy as np\n",
    "\n",
    "# 读取图像并进行傅里叶正向变换\n",
    "img = cv2.imread('pic.jpg', 0)\n",
    "img_float = np.float32(img)\n",
    "dft = cv2.dft(img_float, flags=cv2.DFT_COMPLEX_OUTPUT)\n",
    "dft_shift = np.fft.fftshift(dft)\n",
    "\n",
    "# 构造滤波器\n",
    "rows, cols = img.shape\n",
    "crow, col = int(rows/2), int(cols/2)\n",
    "fshift = np.zeros((rows, cols, 2), dtype=np.float32)\n",
    "fshift[crow-30:crow+30, col-30:col+30] = 1\n",
    "\n",
    "# 频域滤波\n",
    "fshift = dft_shift * fshift\n",
    "\n",
    "# 傅里叶逆变换\n",
    "f_ishift = np.fft.ifftshift(fshift)\n",
    "img_back = cv2.idft(f_ishift)\n",
    "img_back = cv2.magnitude(img_back[:, :, 0], img_back[:, :, 1])\n",
    "\n",
    "# 保存结果\n",
    "cv2.imwrite('ditong.jpg', img_back)\n"
   ]
  },
  {
   "attachments": {},
   "cell_type": "markdown",
   "metadata": {},
   "source": [
    "# Prewitt)算子\n"
   ]
  },
  {
   "cell_type": "code",
   "execution_count": 11,
   "metadata": {},
   "outputs": [
    {
     "data": {
      "text/plain": [
       "True"
      ]
     },
     "execution_count": 11,
     "metadata": {},
     "output_type": "execute_result"
    }
   ],
   "source": [
    "import cv2\n",
    "import numpy as np\n",
    "\n",
    "# 读取图像并转换为灰度图\n",
    "img = cv2.imread('car.jpg')\n",
    "grayImage = cv2.cvtColor(img, cv2.COLOR_BGR2GRAY)\n",
    "\n",
    "# 构造x和y方向上的卷积模板\n",
    "kernel_x = np.array([[-1, 0, 1], [-1, 0, 1], [-1, 0, 1]], dtype=np.float32)\n",
    "kernel_y = np.array([[-1, -1, -1], [0, 0, 0], [1, 1, 1]], dtype=np.float32)\n",
    "\n",
    "# 调用filter2D()函数实现对图像的卷积运算\n",
    "gradient_x = cv2.filter2D(grayImage, cv2.CV_16S, kernel_x)\n",
    "gradient_y = cv2.filter2D(grayImage, cv2.CV_16S, kernel_y)\n",
    "\n",
    "# 通过convertScaleAbs()和addWeighted()函数实现边缘提取\n",
    "gradient_x_abs = cv2.convertScaleAbs(gradient_x)\n",
    "gradient_y_abs = cv2.convertScaleAbs(gradient_y)\n",
    "Prewitt = cv2.addWeighted(gradient_x_abs, 0.5, gradient_y_abs, 0.5, 0)\n",
    "\n",
    "# 保存结果\n",
    "cv2.imwrite('Prewitt.jpg', Prewitt)\n"
   ]
  },
  {
   "cell_type": "code",
   "execution_count": null,
   "metadata": {},
   "outputs": [],
   "source": []
  }
 ],
 "metadata": {
  "kernelspec": {
   "display_name": "base",
   "language": "python",
   "name": "python3"
  },
  "language_info": {
   "codemirror_mode": {
    "name": "ipython",
    "version": 3
   },
   "file_extension": ".py",
   "mimetype": "text/x-python",
   "name": "python",
   "nbconvert_exporter": "python",
   "pygments_lexer": "ipython3",
   "version": "3.9.7 (default, Sep 16 2021, 16:59:28) [MSC v.1916 64 bit (AMD64)]"
  },
  "orig_nbformat": 4,
  "vscode": {
   "interpreter": {
    "hash": "526b65c80cc34e104c4b2a463e7de7c9c7f7302ba49d869c08f4628a15b82f2d"
   }
  }
 },
 "nbformat": 4,
 "nbformat_minor": 2
}
