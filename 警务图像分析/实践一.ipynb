{
 "cells": [
  {
   "cell_type": "code",
   "execution_count": 4,
   "metadata": {},
   "outputs": [
    {
     "data": {
      "text/plain": [
       "True"
      ]
     },
     "execution_count": 4,
     "metadata": {},
     "output_type": "execute_result"
    }
   ],
   "source": [
    "import cv2\n",
    "import numpy as np\n",
    "\n",
    "# 读取图像\n",
    "img = cv2.imread('chepai.jpg')\n",
    "rows, cols, chn = img.shape\n",
    "\n",
    "# 拆分通道\n",
    "b, g, r = cv2.split(img)\n",
    "\n",
    "# 设置g通道为0\n",
    "img[:, :, 1] = 0 \n",
    "\n",
    "# 设置r通道为0\n",
    "img[:, :, 2] = 0  \n",
    "\n",
    "# 合并通道\n",
    "m = cv2.merge([b, g, r])\n",
    "\n",
    "# 保存图像\n",
    "cv2.imwrite('chepai2.jpg', m)\n"
   ]
  },
  {
   "cell_type": "code",
   "execution_count": 11,
   "metadata": {},
   "outputs": [],
   "source": [
    "import cv2\n",
    "\n",
    "# 读取图像1和图像2\n",
    "img2 = cv2.imread('Lena.png')\n",
    "img1 = cv2.imread('Na.png')\n",
    "\n",
    "\n",
    "# 进行融合\n",
    "blended_image = cv2.addWeighted(img1, 0.6, img2, 0.8, 10)\n",
    "\n",
    "# 保存融合后的图像\n",
    "cv2.imwrite('demo1.jpg', blended_image)\n",
    "cv2.imshow('blended_image', blended_image)\n",
    "\n",
    "cv2.waitKey(0)\n",
    "cv2.destroyAllWindows()\n"
   ]
  },
  {
   "cell_type": "code",
   "execution_count": 12,
   "metadata": {},
   "outputs": [
    {
     "name": "stdout",
     "output_type": "stream",
     "text": [
      "融合后[100, 100]位置的像素值为: 115112251\n"
     ]
    }
   ],
   "source": [
    "import cv2\n",
    "\n",
    "# 读取融合图像\n",
    "image = cv2.imread('demo1.jpg')\n",
    "\n",
    "# 获取[100, 100]位置上的像素值\n",
    "pixel_value = image[100, 100]\n",
    "# 将三通道像素值拼接成9位数\n",
    "pixel_value_str = ''.join([str(int(value)) for value in pixel_value])\n",
    "\n",
    "print(\"融合后[100, 100]位置的像素值为:\", pixel_value_str)\n",
    "# 如果您想分别获取三个通道的像素值\n",
    "# blue_channel_value = image[100, 100, 0]\n",
    "# green_channel_value = image[100, 100, 1]\n",
    "# red_channel_value = image[100, 100, 2]\n",
    "\n",
    "# print(\"Pixel value at [100, 100]:\", pixel_value)\n",
    "# print(\"Blue channel value:\", blue_channel_value)\n",
    "# print(\"Green channel value:\", green_channel_value)\n",
    "# print(\"Red channel value:\", red_channel_value)"
   ]
  },
  {
   "attachments": {},
   "cell_type": "markdown",
   "metadata": {},
   "source": [
    "113123240"
   ]
  },
  {
   "cell_type": "code",
   "execution_count": null,
   "metadata": {},
   "outputs": [],
   "source": []
  }
 ],
 "metadata": {
  "kernelspec": {
   "display_name": "base",
   "language": "python",
   "name": "python3"
  },
  "language_info": {
   "codemirror_mode": {
    "name": "ipython",
    "version": 3
   },
   "file_extension": ".py",
   "mimetype": "text/x-python",
   "name": "python",
   "nbconvert_exporter": "python",
   "pygments_lexer": "ipython3",
   "version": "3.9.7 (default, Sep 16 2021, 16:59:28) [MSC v.1916 64 bit (AMD64)]"
  },
  "orig_nbformat": 4,
  "vscode": {
   "interpreter": {
    "hash": "526b65c80cc34e104c4b2a463e7de7c9c7f7302ba49d869c08f4628a15b82f2d"
   }
  }
 },
 "nbformat": 4,
 "nbformat_minor": 2
}
